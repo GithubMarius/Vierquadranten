{
 "cells": [
  {
   "cell_type": "markdown",
   "metadata": {
    "slideshow": {
     "slide_type": "-"
    }
   },
   "source": [
    "# Das Vier-Quadranten-Diagramm"
   ]
  },
  {
   "cell_type": "markdown",
   "metadata": {},
   "source": [
    "Im Folgenden wird versucht, die einzelnen Elemente des Vier-Quadranten-Diagramms näher zu erklären.\n",
    "Im Diagramm werden Informationen zu Zugkraft und Widerständen (Quadrant I), Übersetzung/Getriebe (Quadrant II und IV) sowie Motormoment und Verbrauch (Quadrant III) dargestellt.\n",
    "\n",
    "_**Hinweis**:Zum erzeugen der interaktiven Grafiken am einfachsten oben in der Leiste **Kernel->Restart and Run All** auswählen._\n",
    "\n",
    "_Zum Ausführen von einzelnen Code-Abnschitten klicken Sie in das Code-Feld und drücken **\"Enter+Shift\"**\n",
    "Zuerst den ersten Codeblock ausführen (%matplotlib notebook ...). Die restlichen Blocks funktionieren unabhängig von einander. Je nach Serverauslastung dauert die Erzeugung/das Update einzelner Plots etwas._"
   ]
  },
  {
   "cell_type": "code",
   "execution_count": null,
   "metadata": {},
   "outputs": [],
   "source": [
    "%matplotlib notebook\n",
    "from graphics_module import *"
   ]
  },
  {
   "cell_type": "code",
   "execution_count": null,
   "metadata": {},
   "outputs": [],
   "source": [
    "quadrants_plot()"
   ]
  },
  {
   "cell_type": "markdown",
   "metadata": {},
   "source": [
    "## Quadrant I: Zugkraft und Fahrwiderstände\n",
    "\n",
    "Die Widerstände berechnen sich wie folgt:\n",
    "\n",
    "Radwiderstand:\n",
    "\n",
    "$F_\\mathrm{W,R}=f_\\mathrm{r} \\cdot m \\cdot g$\n",
    "\n",
    "Steigungswiderstand:\n",
    "\n",
    "$F_\\mathrm{W,St} = \\sin(\\alpha) \\cdot m \\cdot g \\approx \\alpha \\cdot m \\cdot g$\n",
    "\n",
    "Luftwiderstand:\n",
    "\n",
    "$F_\\mathrm{W,L}=\\dfrac{1}{2}c_\\mathrm{w} \\cdot A \\cdot \\rho_{\\mathrm{L}} \\cdot v_\\mathrm{rel}^2$\n",
    "\n",
    "Beschleunigungswiderstand:\n",
    "\n",
    "$F_\\mathrm{W,Be}= m \\cdot a$\n",
    "\n",
    "Im Diagramm nicht dargestellt ist der Anhängerwiderstand.\n",
    "\n",
    "$F_\\mathrm{W,Ges} = F_\\mathrm{W,R} + F_\\mathrm{W,St} + F_\\mathrm{W,L} + F_\\mathrm{W,Be}$\n",
    "\n",
    "Die Widerstandsleistung ist:\n",
    "\n",
    "$P_\\mathrm{W,i} = F_\\mathrm{W,i} \\cdot v$ (Zum Beispiel: $P_\\mathrm{W,Ges} = F_\\mathrm{W,Ges} \\cdot v$)\n",
    "\n",
    "_**Vergleiche Kapitel 1 Fahrwiderstände, Folien 23-33**_"
   ]
  },
  {
   "cell_type": "code",
   "execution_count": null,
   "metadata": {},
   "outputs": [],
   "source": [
    "resistance_plot()"
   ]
  },
  {
   "cell_type": "markdown",
   "metadata": {},
   "source": [
    "## Quadrant III: Motormoment und sowie Verbrauch"
   ]
  },
  {
   "cell_type": "markdown",
   "metadata": {},
   "source": [
    "Im folgenden Diagramm ist das Motordrehmoment bzw. die Motorleistung über die Drehzahl aufgetragen.\n",
    "\n",
    "_**Vergleiche Kapitel 3: Antrieb, Folie 30**_\n",
    "\n",
    "Zusätzlich makieren die farbigen  Linien Punkte mit dem selben spezifischen\n",
    "Kraftstoffverbrauchs $b_e$.\n",
    "\n",
    "_**Vergleiche Kapitel 3: Antrieb, Folien 32-37**_\n",
    "\n",
    "Für verschiedene Leistungen lassen sich Iso-Linien darstellen. Da $P=M\\cdot \\omega$ gilt, ergibt sich $M(\\omega)=\\dfrac{P_\\mathrm{konst}}{\\omega}$. Somit werden Punkte mit gleicher Leistung durch hyperförmige Linien gekennzeichnet.\n",
    "\n",
    "_**Hinweis: Die Grafik ist an https://de.wikipedia.org/wiki/Verbrauchskennfeld angelehnt. (Mitsubishi Colt DI-D Dreizylinder-Dieselmotors mit 1,5 l Hubraum)**_"
   ]
  },
  {
   "cell_type": "code",
   "execution_count": null,
   "metadata": {},
   "outputs": [],
   "source": [
    "engine_plot()"
   ]
  },
  {
   "cell_type": "markdown",
   "metadata": {},
   "source": [
    "Widerstände und Motorkennfeld werden in Quadrant I und III eingetragen. Quadrant II und IV geben die Übersetzung zwischen Drehmoment und Zugkraft (Quadrant II) und Winkelgeschwindigkeit/Drehzahl und Fahrgeschwindigkeit (Quadrant IV).\n",
    "\n",
    "_** Hinweis: Achsenrichtung beachten: Motormoment nach links, Winkelgeschwindigkeit/Drehzahl nach unten.**_"
   ]
  },
  {
   "cell_type": "code",
   "execution_count": null,
   "metadata": {},
   "outputs": [],
   "source": [
    "quadrants_plot()"
   ]
  },
  {
   "cell_type": "markdown",
   "metadata": {},
   "source": [
    "Quadranten II und IV beschreiben die Übersetzung. Prinzipiell ergibt sich die Geschwindigkeit aus der Motordrehzahl wie folgt. (Bei schlupffreier Kupplung und auch keinen anderen Verlust im Antriebsstrang oder an den Reifen (zum Beispiel durch Schlupf).\n",
    "\n",
    "$v=r_\\mathrm{dyn}\\cdot\\omega_\\mathrm{rad}=\\underbrace{r_\\mathrm{dyn}\\cdot\\dfrac{1}{i_\\mathrm{a}\\cdot i_\\mathrm{g}}}_{\\dfrac{1}{i_\\mathrm{ges}}}\\cdot \\omega_\\mathrm{M}$\n",
    "\n",
    "Im Folgenden wird $\\dfrac{i_\\mathrm{a}\\cdot i_\\mathrm{g}}{r_\\mathrm{dyn}}$ als $i_\\mathrm{ges}$ mit Einheit $\\frac{1}{\\mathrm{m}}$ zusammengefasst. Ist $i_\\mathrm{ges}$ konstant (zum Beispiel bei einem gewöhnlichen Getriebe) ist der Zusammenhang zwischen $v$ und $\\omega$ sowie $F$ und $M$ linear. Bei gegebener Übersetzung kann also das durch den Widerstand am Motor erzeugte Moment und das vom Motor zur Verfügung stehenede Moment als Zugkraft im Diagramm dargestellt werden, indem Punkte jeweils an der Gerade gespiegelt werden. Dies entspricht der Division durch bzw. der Multiplikation mit $i_\\mathrm{ges}$."
   ]
  },
  {
   "cell_type": "code",
   "execution_count": null,
   "metadata": {},
   "outputs": [],
   "source": [
    "transmission_plot()"
   ]
  },
  {
   "cell_type": "markdown",
   "metadata": {},
   "source": [
    "Im folgenden Diagramm ist der Unterschied zwischern geometrischer Übersetzung zu sehen.\n",
    "\n",
    "* Für die geometrische Übersetzung gilt:\n",
    "\n",
    "    $\\alpha_\\mathrm{G}=\\dfrac{i_{z-1}}{i_z}$\n",
    "    \n",
    "    Zum Beispiel: $i_4 = \\alpha_\\mathrm{G}\\cdot i_5=1,3$ für $\\alpha_\\mathrm{G}=1$ und bei direkt fünften Gang\n",
    "    ohne Übersetzung ($i_5=1$).\n",
    "    \n",
    "    \n",
    "* Für die progressive Übersetzung gilt:\n",
    "\n",
    "    ...to be continued...\n",
    "\n"
   ]
  },
  {
   "cell_type": "code",
   "execution_count": null,
   "metadata": {},
   "outputs": [],
   "source": [
    "multi_gear_plot()"
   ]
  },
  {
   "cell_type": "code",
   "execution_count": null,
   "metadata": {},
   "outputs": [],
   "source": []
  }
 ],
 "metadata": {
  "kernelspec": {
   "display_name": "Python 3",
   "language": "python",
   "name": "python3"
  },
  "language_info": {
   "codemirror_mode": {
    "name": "ipython",
    "version": 3
   },
   "file_extension": ".py",
   "mimetype": "text/x-python",
   "name": "python",
   "nbconvert_exporter": "python",
   "pygments_lexer": "ipython3",
   "version": "3.6.5"
  }
 },
 "nbformat": 4,
 "nbformat_minor": 2
}
